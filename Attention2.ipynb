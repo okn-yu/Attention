{
 "cells": [
  {
   "cell_type": "markdown",
   "metadata": {},
   "source": [
    "# Apply Attention to DateTranslation Datasets.\n",
    "* Attention works prettye well!"
   ]
  },
  {
   "cell_type": "code",
   "execution_count": 1,
   "metadata": {},
   "outputs": [],
   "source": [
    "import torch\n",
    "import torch.nn as nn\n",
    "import torch.optim as optim\n",
    "\n",
    "from sklearn.model_selection import train_test_split\n",
    "from sklearn.utils import shuffle"
   ]
  },
  {
   "cell_type": "code",
   "execution_count": 2,
   "metadata": {},
   "outputs": [],
   "source": [
    "input_date = [] # 変換前の日付データ\n",
    "output_date = [] # 変換後の日付データ\n",
    "\n",
    "file_path = 'data/date.txt'\n",
    "\n",
    "# date.txtを1行ずつ読み込んで変換前と変換後に分割して、inputとoutputで分ける\n",
    "with open(file_path, \"r\") as f:\n",
    "    date_list = f.readlines()\n",
    "    for date in date_list:\n",
    "        date = date[:-1]\n",
    "        input_date.append(date.split(\"_\")[0])\n",
    "        output_date.append(\"_\" + date.split(\"_\")[1])\n",
    "\n",
    "# inputとoutputの系列の長さを取得\n",
    "# すべて長さが同じなので、0番目の要素でlenを取ってます\n",
    "input_len = len(input_date[0]) # 29\n",
    "output_len = len(output_date[0]) # 10\n",
    "\n",
    "# date.txtで登場するすべての文字にIDを割り当てる\n",
    "char2id = {}\n",
    "for input_chars, output_chars in zip(input_date, output_date):\n",
    "    for c in input_chars:\n",
    "        if not c in char2id:\n",
    "            char2id[c] = len(char2id)\n",
    "    for c in output_chars:\n",
    "        if not c in char2id:\n",
    "            char2id[c] = len(char2id)\n",
    "\n",
    "input_data = [] # ID化された変換前日付データ\n",
    "output_data = [] # ID化された変換後日付データ\n",
    "for input_chars, output_chars in zip(input_date, output_date):\n",
    "    input_data.append([char2id[c] for c in input_chars])\n",
    "    output_data.append([char2id[c] for c in output_chars])\n",
    "\n",
    "# 7:3でtrainとtestに分ける\n",
    "train_x, test_x, train_y, test_y = train_test_split(input_data, output_data, train_size= 0.7)\n",
    "\n",
    "# データをバッチ化するための関数を定義\n",
    "def train2batch(input_data, output_data, batch_size=100):\n",
    "    input_batch = []\n",
    "    output_batch = []\n",
    "    input_shuffle, output_shuffle = shuffle(input_data, output_data)\n",
    "    for i in range(0, len(input_data), batch_size):\n",
    "        input_batch.append(input_shuffle[i:i+batch_size])\n",
    "        output_batch.append(output_shuffle[i:i+batch_size])\n",
    "    return input_batch, output_batch"
   ]
  },
  {
   "cell_type": "code",
   "execution_count": 3,
   "metadata": {},
   "outputs": [
    {
     "name": "stdout",
     "output_type": "stream",
     "text": [
      "cuda\n"
     ]
    }
   ],
   "source": [
    "embedding_dim = 200\n",
    "hidden_dim = 128\n",
    "vocab_size = len(char2id)\n",
    "\n",
    "BATCH_NUM = 100\n",
    "\n",
    "device = torch.device('cuda' if torch.cuda.is_available() else 'cpu')\n",
    "print(device)\n",
    "\n",
    "criterion = nn.CrossEntropyLoss()"
   ]
  },
  {
   "cell_type": "markdown",
   "metadata": {},
   "source": [
    "# Encoder\n",
    "* LSTM has cell-state, but GRU does not have cell-state."
   ]
  },
  {
   "cell_type": "code",
   "execution_count": 4,
   "metadata": {},
   "outputs": [],
   "source": [
    "class Encoder(nn.Module):\n",
    "    def __init__(self, vocab_size, embedding_dim, hidden_dim, num_layers=1):\n",
    "        super(Encoder, self).__init__()\n",
    "        self.hidden_dim = hidden_dim\n",
    "        self.word_embeddings = nn.Embedding(vocab_size, embedding_dim, padding_idx=char2id[\" \"])\n",
    "        self.gru = nn.GRU(embedding_dim, hidden_dim, batch_first=True)\n",
    "\n",
    "    def forward(self, sequence):\n",
    "        embedding = self.word_embeddings(sequence)\n",
    "        hs, h = self.gru(embedding)\n",
    "        # GRU has no cell-state!\n",
    "        return hs, h"
   ]
  },
  {
   "cell_type": "markdown",
   "metadata": {},
   "source": [
    "# Attention-Decoder"
   ]
  },
  {
   "cell_type": "code",
   "execution_count": 5,
   "metadata": {},
   "outputs": [],
   "source": [
    "class AttentionDecoder(nn.Module):\n",
    "    def __init__(self, vocab_size, embedding_dim, hidden_dim, batch_size, num_layers=1):\n",
    "        super(AttentionDecoder, self).__init__()\n",
    "        self.hidden_dim = hidden_dim\n",
    "        self.batch_size = batch_size\n",
    "        self.word_embeddings = nn.Embedding(vocab_size, embedding_dim, padding_idx=char2id[\" \"])\n",
    "        self.gru = nn.GRU(embedding_dim, hidden_dim, batch_first=True)\n",
    "        # hidden_dim * 2: concat GRU hidden dim and Attention context-vector.\n",
    "        self.hidden2linear = nn.Linear(hidden_dim * 2, vocab_size)\n",
    "        # dim=1 is input_time-sequence.\n",
    "        self.softmax = nn.Softmax(dim=1) \n",
    "\n",
    "    def forward(self, sequence, hs, h):\n",
    "        embedding = self.word_embeddings(sequence)\n",
    "        output, state = self.gru(embedding, h)\n",
    "        \n",
    "        # Attention layer.\n",
    "        # t_output format: [batch_size, emb_vec, output_time_seq]\n",
    "        t_output = torch.transpose(output, 1, 2)\n",
    "        \n",
    "        # hs_format: [batch_size, input_time_seq, emb_vec]\n",
    "        # s_format: [batch_size, input_time_seq, output_time_seq]\n",
    "        s = torch.bmm(hs, t_output)\n",
    "        \n",
    "        # atteintion_weight.shape == s.shape\n",
    "        attention_weight = self.softmax(s)\n",
    "        \n",
    "        # c_format: [batch_size, 1, emb_vec]\n",
    "        c = torch.zeros(self.batch_size, 1, self.hidden_dim, device=device)\n",
    "        \n",
    "        for i in range(attention_weight.size()[2]):\n",
    "            # unsq_weight: [batch_size, input_time_seq, 1]\n",
    "            unsq_weight = attention_weight[:, :, i].unsqueeze(2)\n",
    "            # hs_format: [batch_size, input_time_seq, emb_vec]\n",
    "            # weited_hs_format: [batch_size, input_time_seq, emb_vec]\n",
    "            weighted_hs = hs * unsq_weight\n",
    "            # weight_sum_format: [batch_size, 1, emb_vec]\n",
    "            weight_sum = torch.sum(weighted_hs, axis=1).unsqueeze(1)\n",
    "            # c_format: [batch_size, i, emb_vec]\n",
    "            c = torch.cat([c, weight_sum], dim=1)\n",
    "            \n",
    "        # rm zero elm.\n",
    "        c = c[:, 1:, :]\n",
    "        #print(\"output.shape, c.shape: \", output.shape, c.shape)\n",
    "        output = torch.cat([output, c], dim=2)\n",
    "        output = self.hidden2linear(output)\n",
    "\n",
    "        return output, state, attention_weight"
   ]
  },
  {
   "cell_type": "code",
   "execution_count": 6,
   "metadata": {},
   "outputs": [],
   "source": [
    "def train(EPOCH_NUM=100, lr=0.001):\n",
    "    all_losses = []\n",
    "    print(\"training...\")\n",
    "    \n",
    "    encoder_optimizer = optim.Adam(encoder.parameters(), lr=0.001)\n",
    "    decoder_optimizer = optim.Adam(decoder.parameters(), lr=0.001)\n",
    "    \n",
    "    for epoch in range(1, EPOCH_NUM + 1):\n",
    "        epoch_loss = 0\n",
    "\n",
    "        input_batch, output_batch = train2batch(train_x, train_y, batch_size=BATCH_NUM)\n",
    "\n",
    "        for i in range(len(input_batch)):\n",
    "            encoder_optimizer.zero_grad()\n",
    "            decoder_optimizer.zero_grad()\n",
    "\n",
    "            input_ts = torch.tensor(input_batch[i], device=device)\n",
    "            output_ts = torch.tensor(output_batch[i], device=device)\n",
    "\n",
    "            hs, h = encoder(input_ts)\n",
    "\n",
    "            # last-data can not be next-input.\n",
    "            training_source = output_ts[:, :-1]\n",
    "            # start symbol can not ba data to train.\n",
    "            training_data = output_ts[:, 1:]\n",
    "\n",
    "            loss = 0\n",
    "\n",
    "            decoder_output, _, attention_weight = decoder(training_source, hs, h)\n",
    "\n",
    "            for j in range(decoder_output.size()[1]):\n",
    "                loss += criterion(decoder_output[:, j, :], training_data[:, j])\n",
    "\n",
    "            epoch_loss += loss.item()\n",
    "            loss.backward()\n",
    "\n",
    "            encoder_optimizer.step()\n",
    "            decoder_optimizer.step()\n",
    "\n",
    "        print(\"Epoch %d: %.2f\" % (epoch, epoch_loss))\n",
    "        all_losses.append(epoch_loss)\n",
    "        if epoch_loss < 0.1: break\n",
    "    print(\"Done\")\n",
    "    \n",
    "    return all_losses"
   ]
  },
  {
   "cell_type": "code",
   "execution_count": 7,
   "metadata": {},
   "outputs": [],
   "source": [
    "encoder = Encoder(vocab_size, embedding_dim, hidden_dim, num_layers=1).to(device)\n",
    "decoder = AttentionDecoder(vocab_size, embedding_dim, hidden_dim, batch_size=BATCH_NUM).to(device)"
   ]
  },
  {
   "cell_type": "markdown",
   "metadata": {},
   "source": [
    "# Training"
   ]
  },
  {
   "cell_type": "code",
   "execution_count": 8,
   "metadata": {},
   "outputs": [
    {
     "name": "stdout",
     "output_type": "stream",
     "text": [
      "training...\n",
      "Epoch 1: 1528.55\n",
      "Epoch 2: 36.01\n",
      "Epoch 3: 15.01\n",
      "Epoch 4: 6.91\n",
      "Epoch 5: 17.26\n",
      "Epoch 6: 6.02\n",
      "Epoch 7: 2.16\n",
      "Epoch 8: 1.32\n",
      "Epoch 9: 0.92\n",
      "Epoch 10: 0.68\n",
      "Epoch 11: 0.52\n",
      "Epoch 12: 0.40\n",
      "Epoch 13: 0.32\n",
      "Epoch 14: 0.26\n",
      "Epoch 15: 0.21\n",
      "Epoch 16: 0.17\n",
      "Epoch 17: 0.14\n",
      "Epoch 18: 0.11\n",
      "Epoch 19: 0.09\n",
      "Done\n"
     ]
    }
   ],
   "source": [
    "all_losses = train(EPOCH_NUM=100, lr=0.001)"
   ]
  },
  {
   "cell_type": "code",
   "execution_count": 9,
   "metadata": {},
   "outputs": [
    {
     "data": {
      "text/plain": [
       "[<matplotlib.lines.Line2D at 0x7f7b71656438>]"
      ]
     },
     "execution_count": 9,
     "metadata": {},
     "output_type": "execute_result"
    },
    {
     "data": {
      "image/png": "[encoded data removed]",
      "text/plain": [
       "<Figure size 432x288 with 1 Axes>"
      ]
     },
     "metadata": {
      "needs_background": "light"
     },
     "output_type": "display_data"
    }
   ],
   "source": [
    "import matplotlib.pyplot as plt\n",
    "%matplotlib inline\n",
    "plt.plot(all_losses)"
   ]
  },
  {
   "cell_type": "markdown",
   "metadata": {},
   "source": [
    "# Prediction"
   ]
  },
  {
   "cell_type": "code",
   "execution_count": 10,
   "metadata": {},
   "outputs": [],
   "source": [
    "def get_max_index(decoder_output):  \n",
    "    results = []\n",
    "    for h in decoder_output:\n",
    "        results.append(torch.argmax(h))\n",
    "        \n",
    "    results = torch.tensor(results, device=device).view(BATCH_NUM, 1)\n",
    "    return results"
   ]
  },
  {
   "cell_type": "code",
   "execution_count": 12,
   "metadata": {},
   "outputs": [
    {
     "data": {
      "text/html": [
       "<div>\n",
       "<style scoped>\n",
       "    .dataframe tbody tr th:only-of-type {\n",
       "        vertical-align: middle;\n",
       "    }\n",
       "\n",
       "    .dataframe tbody tr th {\n",
       "        vertical-align: top;\n",
       "    }\n",
       "\n",
       "    .dataframe thead th {\n",
       "        text-align: right;\n",
       "    }\n",
       "</style>\n",
       "<table border=\"1\" class=\"dataframe\">\n",
       "  <thead>\n",
       "    <tr style=\"text-align: right;\">\n",
       "      <th></th>\n",
       "      <th>input</th>\n",
       "      <th>answer</th>\n",
       "      <th>predict</th>\n",
       "      <th>judge</th>\n",
       "    </tr>\n",
       "  </thead>\n",
       "  <tbody>\n",
       "    <tr>\n",
       "      <th>0</th>\n",
       "      <td>8/28/73</td>\n",
       "      <td>1973-08-28</td>\n",
       "      <td>1973-08-28</td>\n",
       "      <td>O</td>\n",
       "    </tr>\n",
       "    <tr>\n",
       "      <th>1</th>\n",
       "      <td>Mar 1, 1976</td>\n",
       "      <td>1976-03-01</td>\n",
       "      <td>1976-03-01</td>\n",
       "      <td>O</td>\n",
       "    </tr>\n",
       "    <tr>\n",
       "      <th>2</th>\n",
       "      <td>1/8/98</td>\n",
       "      <td>1998-01-08</td>\n",
       "      <td>1998-01-08</td>\n",
       "      <td>O</td>\n",
       "    </tr>\n",
       "    <tr>\n",
       "      <th>3</th>\n",
       "      <td>JULY 4, 1994</td>\n",
       "      <td>1994-07-04</td>\n",
       "      <td>1994-07-04</td>\n",
       "      <td>O</td>\n",
       "    </tr>\n",
       "    <tr>\n",
       "      <th>4</th>\n",
       "      <td>9/25/93</td>\n",
       "      <td>1993-09-25</td>\n",
       "      <td>1993-09-25</td>\n",
       "      <td>O</td>\n",
       "    </tr>\n",
       "  </tbody>\n",
       "</table>\n",
       "</div>"
      ],
      "text/plain": [
       "                           input      answer     predict judge\n",
       "0  8/28/73                        1973-08-28  1973-08-28     O\n",
       "1  Mar 1, 1976                    1976-03-01  1976-03-01     O\n",
       "2  1/8/98                         1998-01-08  1998-01-08     O\n",
       "3  JULY 4, 1994                   1994-07-04  1994-07-04     O\n",
       "4  9/25/93                        1993-09-25  1993-09-25     O"
      ]
     },
     "execution_count": 12,
     "metadata": {},
     "output_type": "execute_result"
    }
   ],
   "source": [
    "import pandas as pd\n",
    "\n",
    "test_input_batch, test_output_batch = train2batch(test_x, test_y)\n",
    "input_tensor = torch.tensor(test_input_batch, device=device)\n",
    "\n",
    "predicts = []\n",
    "for i in range(len(test_input_batch)):\n",
    "    with torch.no_grad(): \n",
    "        hs, h = encoder(input_tensor[i])\n",
    "        decoder_hidden = h\n",
    "\n",
    "        # Add start symbol.\n",
    "        start_char_batch = [[char2id[\"_\"]] for _ in range(BATCH_NUM)]\n",
    "        decoder_input_tensor = torch.tensor(start_char_batch, device=device)\n",
    "        # store prediction.\n",
    "        batch_tmp = torch.zeros(100,1, dtype=torch.long, device=device)\n",
    "\n",
    "    for _ in range(output_len - 1):\n",
    "            decoder_output, decoder_hidden, _ = decoder(decoder_input_tensor, hs, decoder_hidden)\n",
    "            # output(predicted character) will be next input.\n",
    "            decoder_input_tensor = get_max_index(decoder_output.squeeze())\n",
    "            batch_tmp = torch.cat([batch_tmp, decoder_input_tensor], dim=1)\n",
    "            # remove head element.\n",
    "            \n",
    "    predicts.append(batch_tmp[:,1:])\n",
    "\n",
    "id2char = {}\n",
    "for k, v in char2id.items():\n",
    "    id2char[v] = k\n",
    "\n",
    "row = []\n",
    "for i in range(len(test_input_batch)):\n",
    "    batch_input = test_input_batch[i]\n",
    "    batch_output = test_output_batch[i]\n",
    "    batch_predict = predicts[i]\n",
    "    for inp, output, predict in zip(batch_input, batch_output, batch_predict):\n",
    "        x = [id2char[idx] for idx in inp]\n",
    "        y = [id2char[idx] for idx in output[1:]]\n",
    "        p = [id2char[idx.item()] for idx in predict]\n",
    "\n",
    "        x_str = \"\".join(x)\n",
    "        y_str = \"\".join(y)\n",
    "        p_str = \"\".join(p)\n",
    "\n",
    "        judge = \"O\" if y_str == p_str else \"X\"\n",
    "        row.append([x_str, y_str, p_str, judge])\n",
    "        \n",
    "predict_df = pd.DataFrame(row, columns=[\"input\", \"answer\", \"predict\", \"judge\"])\n",
    "predict_df.head()"
   ]
  },
  {
   "cell_type": "code",
   "execution_count": 13,
   "metadata": {},
   "outputs": [
    {
     "name": "stdout",
     "output_type": "stream",
     "text": [
      "1.0\n"
     ]
    },
    {
     "data": {
      "text/html": [
       "<div>\n",
       "<style scoped>\n",
       "    .dataframe tbody tr th:only-of-type {\n",
       "        vertical-align: middle;\n",
       "    }\n",
       "\n",
       "    .dataframe tbody tr th {\n",
       "        vertical-align: top;\n",
       "    }\n",
       "\n",
       "    .dataframe thead th {\n",
       "        text-align: right;\n",
       "    }\n",
       "</style>\n",
       "<table border=\"1\" class=\"dataframe\">\n",
       "  <thead>\n",
       "    <tr style=\"text-align: right;\">\n",
       "      <th></th>\n",
       "      <th>input</th>\n",
       "      <th>answer</th>\n",
       "      <th>predict</th>\n",
       "      <th>judge</th>\n",
       "    </tr>\n",
       "  </thead>\n",
       "  <tbody>\n",
       "  </tbody>\n",
       "</table>\n",
       "</div>"
      ],
      "text/plain": [
       "Empty DataFrame\n",
       "Columns: [input, answer, predict, judge]\n",
       "Index: []"
      ]
     },
     "execution_count": 13,
     "metadata": {},
     "output_type": "execute_result"
    }
   ],
   "source": [
    "print(len(predict_df.query('judge == \"O\"')) / len(predict_df))\n",
    "predict_df.query('judge == \"X\"').head(10)"
   ]
  },
  {
   "cell_type": "code",
   "execution_count": null,
   "metadata": {},
   "outputs": [],
   "source": []
  }
 ],
 "metadata": {
  "kernelspec": {
   "display_name": "Python 3",
   "language": "python",
   "name": "python3"
  },
  "language_info": {
   "codemirror_mode": {
    "name": "ipython",
    "version": 3
   },
   "file_extension": ".py",
   "mimetype": "text/x-python",
   "name": "python",
   "nbconvert_exporter": "python",
   "pygments_lexer": "ipython3",
   "version": "3.6.9"
  }
 },
 "nbformat": 4,
 "nbformat_minor": 2
}
