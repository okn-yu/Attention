{
 "cells": [
  {
   "cell_type": "markdown",
   "metadata": {},
   "source": [
    "# Apply Attention to Subtraction Datasets."
   ]
  },
  {
   "cell_type": "code",
   "execution_count": 1,
   "metadata": {},
   "outputs": [],
   "source": [
    "import torch\n",
    "import torch.nn as nn\n",
    "import torch.optim as optim\n",
    "\n",
    "from sklearn.model_selection import train_test_split\n",
    "from sklearn.utils import shuffle\n",
    "\n",
    "from src.data_gen import subtraction_datasets, to_ID, to_batch"
   ]
  },
  {
   "cell_type": "code",
   "execution_count": 2,
   "metadata": {},
   "outputs": [
    {
     "name": "stdout",
     "output_type": "stream",
     "text": [
      "cuda\n"
     ]
    }
   ],
   "source": [
    "embedding_dim = 200\n",
    "hidden_dim = 128\n",
    "vocab_size = len(to_ID())\n",
    "\n",
    "BATCH_NUM = 100\n",
    "\n",
    "device = torch.device('cuda' if torch.cuda.is_available() else 'cpu')\n",
    "print(device)"
   ]
  },
  {
   "cell_type": "code",
   "execution_count": 3,
   "metadata": {},
   "outputs": [],
   "source": [
    "input_data, output_data = subtraction_datasets(record_num=50000)\n",
    "train_x, test_x, train_y, test_y = train_test_split(input_data, output_data, train_size=0.7)\n",
    "criterion = nn.CrossEntropyLoss()"
   ]
  },
  {
   "cell_type": "markdown",
   "metadata": {},
   "source": [
    "# Encoder\n",
    "* LSTM has cell-state, but GRU does not have cell-state."
   ]
  },
  {
   "cell_type": "code",
   "execution_count": 4,
   "metadata": {},
   "outputs": [],
   "source": [
    "class Encoder(nn.Module):\n",
    "    def __init__(self, vocab_size, embedding_dim, hidden_dim, num_layers=1):\n",
    "        super(Encoder, self).__init__()\n",
    "        self.hidden_dim = hidden_dim\n",
    "        self.word_embeddings = nn.Embedding(vocab_size, embedding_dim, padding_idx=to_ID()[\" \"])\n",
    "        self.gru = nn.GRU(embedding_dim, hidden_dim, batch_first=True)\n",
    "\n",
    "    def forward(self, sequence):\n",
    "        embedding = self.word_embeddings(sequence)\n",
    "        hs, h = self.gru(embedding)\n",
    "        # GRU has no cell-state!\n",
    "        return hs, h"
   ]
  },
  {
   "cell_type": "markdown",
   "metadata": {},
   "source": [
    "# Attention-Decoder"
   ]
  },
  {
   "cell_type": "code",
   "execution_count": 5,
   "metadata": {},
   "outputs": [],
   "source": [
    "class AttentionDecoder(nn.Module):\n",
    "    def __init__(self, vocab_size, embedding_dim, hidden_dim, batch_size, num_layers=1):\n",
    "        super(AttentionDecoder, self).__init__()\n",
    "        self.hidden_dim = hidden_dim\n",
    "        self.batch_size = batch_size\n",
    "        self.word_embeddings = nn.Embedding(vocab_size, embedding_dim, padding_idx=to_ID()[\" \"])\n",
    "        self.gru = nn.GRU(embedding_dim, hidden_dim, batch_first=True)\n",
    "        # hidden_dim * 2: concat GRU hidden dim and Attention context-vector.\n",
    "        self.hidden2linear = nn.Linear(hidden_dim * 2, vocab_size)\n",
    "        # dim=1 is input_time-sequence.\n",
    "        self.softmax = nn.Softmax(dim=1) \n",
    "\n",
    "    def forward(self, sequence, hs, h):\n",
    "        embedding = self.word_embeddings(sequence)\n",
    "        output, state = self.gru(embedding, h)\n",
    "        \n",
    "        # Attention layer.\n",
    "        # t_output format: [batch_size, emb_vec, output_time_seq]\n",
    "        t_output = torch.transpose(output, 1, 2)\n",
    "        \n",
    "        # hs_format: [batch_size, input_time_seq, emb_vec]\n",
    "        # s_format: [batch_size, input_time_seq, output_time_seq]\n",
    "        s = torch.bmm(hs, t_output)\n",
    "        \n",
    "        # atteintion_weight.shape == s.shape\n",
    "        attention_weight = self.softmax(s)\n",
    "        \n",
    "        # c_format: [batch_size, 1, emb_vec]\n",
    "        c = torch.zeros(self.batch_size, 1, self.hidden_dim, device=device)\n",
    "        \n",
    "        for i in range(attention_weight.size()[2]):\n",
    "            # unsq_weight: [batch_size, input_time_seq, 1]\n",
    "            unsq_weight = attention_weight[:, :, i].unsqueeze(2)\n",
    "            # hs_format: [batch_size, input_time_seq, emb_vec]\n",
    "            # weited_hs_format: [batch_size, input_time_seq, emb_vec]\n",
    "            weighted_hs = hs * unsq_weight\n",
    "            # weight_sum_format: [batch_size, 1, emb_vec]\n",
    "            weight_sum = torch.sum(weighted_hs, axis=1).unsqueeze(1)\n",
    "            # c_format: [batch_size, i, emb_vec]\n",
    "            c = torch.cat([c, weight_sum], dim=1)\n",
    "            \n",
    "        # rm zero elm.\n",
    "        c = c[:, 1:, :]\n",
    "        #print(\"output.shape, c.shape: \", output.shape, c.shape)\n",
    "        output = torch.cat([output, c], dim=2)\n",
    "        output = self.hidden2linear(output)\n",
    "\n",
    "        return output, state, attention_weight"
   ]
  },
  {
   "cell_type": "code",
   "execution_count": 10,
   "metadata": {},
   "outputs": [],
   "source": [
    "def train(EPOCH_NUM=100, lr=0.001):\n",
    "    all_losses = []\n",
    "    print(\"training...\")\n",
    "    \n",
    "    encoder_optimizer = optim.Adam(encoder.parameters(), lr=0.001)\n",
    "    decoder_optimizer = optim.Adam(decoder.parameters(), lr=0.001)\n",
    "    \n",
    "    for epoch in range(1, EPOCH_NUM + 1):\n",
    "        epoch_loss = 0\n",
    "\n",
    "        input_batch, output_batch = to_batch(train_x, train_y, batch_size=BATCH_NUM)\n",
    "\n",
    "        for i in range(len(input_batch)):\n",
    "            encoder_optimizer.zero_grad()\n",
    "            decoder_optimizer.zero_grad()\n",
    "\n",
    "            input_ts = torch.tensor(input_batch[i], device=device)\n",
    "            output_ts = torch.tensor(output_batch[i], device=device)\n",
    "\n",
    "            hs, h = encoder(input_ts)\n",
    "\n",
    "            # last-data can not be next-input.\n",
    "            training_source = output_ts[:, :-1]\n",
    "            # start symbol can not ba data to train.\n",
    "            training_data = output_ts[:, 1:]\n",
    "\n",
    "            loss = 0\n",
    "\n",
    "            decoder_output, _, attention_weight = decoder(training_source, hs, h)\n",
    "\n",
    "            for j in range(decoder_output.size()[1]):\n",
    "                loss += criterion(decoder_output[:, j, :], training_data[:, j])\n",
    "\n",
    "            epoch_loss += loss.item()\n",
    "            loss.backward()\n",
    "\n",
    "            encoder_optimizer.step()\n",
    "            decoder_optimizer.step()\n",
    "\n",
    "        print(\"Epoch %d: %.2f\" % (epoch, epoch_loss))\n",
    "        all_losses.append(epoch_loss)\n",
    "        if epoch_loss < 0.1: break\n",
    "    print(\"Done\")\n",
    "    \n",
    "    return all_losses"
   ]
  },
  {
   "cell_type": "code",
   "execution_count": 11,
   "metadata": {},
   "outputs": [],
   "source": [
    "encoder = Encoder(vocab_size, embedding_dim, hidden_dim, num_layers=1).to(device)\n",
    "decoder = AttentionDecoder(vocab_size, embedding_dim, hidden_dim, batch_size=BATCH_NUM).to(device)"
   ]
  },
  {
   "cell_type": "markdown",
   "metadata": {},
   "source": [
    "# Training"
   ]
  },
  {
   "cell_type": "code",
   "execution_count": 12,
   "metadata": {},
   "outputs": [
    {
     "name": "stdout",
     "output_type": "stream",
     "text": [
      "training...\n",
      "Epoch 1: 1830.69\n",
      "Epoch 2: 1353.65\n",
      "Epoch 3: 1258.62\n",
      "Epoch 4: 1204.07\n",
      "Epoch 5: 1166.44\n",
      "Epoch 6: 1121.16\n",
      "Epoch 7: 1068.28\n",
      "Epoch 8: 1013.40\n",
      "Epoch 9: 950.09\n",
      "Epoch 10: 885.29\n",
      "Epoch 11: 820.29\n",
      "Epoch 12: 751.43\n",
      "Epoch 13: 683.25\n",
      "Epoch 14: 615.33\n",
      "Epoch 15: 555.47\n",
      "Epoch 16: 509.35\n",
      "Epoch 17: 457.02\n",
      "Epoch 18: 423.97\n",
      "Epoch 19: 386.41\n",
      "Epoch 20: 353.11\n",
      "Epoch 21: 335.40\n",
      "Epoch 22: 306.46\n",
      "Epoch 23: 290.85\n",
      "Epoch 24: 269.47\n",
      "Epoch 25: 255.80\n",
      "Epoch 26: 247.60\n",
      "Epoch 27: 228.17\n",
      "Epoch 28: 225.45\n",
      "Epoch 29: 207.21\n",
      "Epoch 30: 205.78\n",
      "Epoch 31: 199.31\n",
      "Epoch 32: 188.90\n",
      "Epoch 33: 180.81\n",
      "Epoch 34: 177.93\n",
      "Epoch 35: 167.50\n",
      "Epoch 36: 155.28\n",
      "Epoch 37: 166.15\n",
      "Epoch 38: 146.07\n",
      "Epoch 39: 158.60\n",
      "Epoch 40: 149.91\n",
      "Epoch 41: 130.30\n",
      "Epoch 42: 139.53\n",
      "Epoch 43: 147.29\n",
      "Epoch 44: 126.51\n",
      "Epoch 45: 123.56\n",
      "Epoch 46: 116.78\n",
      "Epoch 47: 116.63\n",
      "Epoch 48: 116.91\n",
      "Epoch 49: 118.55\n",
      "Epoch 50: 116.17\n",
      "Epoch 51: 111.70\n",
      "Epoch 52: 95.54\n",
      "Epoch 53: 102.68\n",
      "Epoch 54: 106.21\n",
      "Epoch 55: 85.47\n",
      "Epoch 56: 88.51\n",
      "Epoch 57: 91.11\n",
      "Epoch 58: 88.10\n",
      "Epoch 59: 95.19\n",
      "Epoch 60: 100.44\n",
      "Epoch 61: 87.46\n",
      "Epoch 62: 89.45\n",
      "Epoch 63: 75.28\n",
      "Epoch 64: 66.13\n",
      "Epoch 65: 79.81\n",
      "Epoch 66: 90.50\n",
      "Epoch 67: 74.25\n",
      "Epoch 68: 72.28\n",
      "Epoch 69: 60.33\n",
      "Epoch 70: 73.43\n",
      "Epoch 71: 77.33\n",
      "Epoch 72: 64.79\n",
      "Epoch 73: 65.60\n",
      "Epoch 74: 53.59\n",
      "Epoch 75: 94.68\n",
      "Epoch 76: 62.52\n",
      "Epoch 77: 44.86\n",
      "Epoch 78: 46.04\n",
      "Epoch 79: 89.78\n",
      "Epoch 80: 59.90\n",
      "Epoch 81: 49.45\n",
      "Epoch 82: 58.72\n",
      "Epoch 83: 48.63\n",
      "Epoch 84: 53.74\n",
      "Epoch 85: 65.41\n",
      "Epoch 86: 49.92\n",
      "Epoch 87: 42.30\n",
      "Epoch 88: 41.01\n",
      "Epoch 89: 46.35\n",
      "Epoch 90: 64.65\n",
      "Epoch 91: 48.94\n",
      "Epoch 92: 45.95\n",
      "Epoch 93: 48.23\n",
      "Epoch 94: 47.35\n",
      "Epoch 95: 47.06\n",
      "Epoch 96: 46.61\n",
      "Epoch 97: 55.82\n",
      "Epoch 98: 39.35\n",
      "Epoch 99: 32.09\n",
      "Epoch 100: 30.49\n",
      "Done\n"
     ]
    }
   ],
   "source": [
    "all_losses = train(EPOCH_NUM=100, lr=0.001)"
   ]
  },
  {
   "cell_type": "code",
   "execution_count": 17,
   "metadata": {},
   "outputs": [
    {
     "name": "stdout",
     "output_type": "stream",
     "text": [
      "training...\n",
      "Epoch 1: 45.14\n",
      "Epoch 2: 38.99\n",
      "Epoch 3: 46.78\n",
      "Epoch 4: 42.67\n",
      "Epoch 5: 45.25\n",
      "Epoch 6: 29.98\n",
      "Epoch 7: 38.07\n",
      "Epoch 8: 36.65\n",
      "Epoch 9: 50.36\n",
      "Epoch 10: 25.96\n",
      "Epoch 11: 41.55\n",
      "Epoch 12: 45.48\n",
      "Epoch 13: 34.92\n",
      "Epoch 14: 31.89\n",
      "Epoch 15: 23.92\n",
      "Epoch 16: 57.05\n",
      "Epoch 17: 34.55\n",
      "Epoch 18: 18.34\n",
      "Epoch 19: 21.38\n",
      "Epoch 20: 53.32\n",
      "Epoch 21: 38.47\n",
      "Epoch 22: 28.18\n",
      "Epoch 23: 43.21\n",
      "Epoch 24: 27.70\n",
      "Epoch 25: 14.35\n",
      "Epoch 26: 11.60\n",
      "Epoch 27: 49.58\n",
      "Epoch 28: 58.40\n",
      "Epoch 29: 22.14\n",
      "Epoch 30: 12.67\n",
      "Epoch 31: 9.53\n",
      "Epoch 32: 8.90\n",
      "Epoch 33: 106.87\n",
      "Epoch 34: 46.70\n",
      "Epoch 35: 34.14\n",
      "Epoch 36: 25.95\n",
      "Epoch 37: 12.51\n",
      "Epoch 38: 9.52\n",
      "Epoch 39: 50.79\n",
      "Epoch 40: 34.09\n",
      "Epoch 41: 23.85\n",
      "Epoch 42: 14.25\n",
      "Epoch 43: 47.35\n",
      "Epoch 44: 37.34\n",
      "Epoch 45: 15.79\n",
      "Epoch 46: 8.32\n",
      "Epoch 47: 6.63\n",
      "Epoch 48: 5.95\n",
      "Epoch 49: 27.94\n",
      "Epoch 50: 113.54\n",
      "Done\n"
     ]
    }
   ],
   "source": [
    "all_losses = train(EPOCH_NUM=50, lr=0.0003)"
   ]
  },
  {
   "cell_type": "code",
   "execution_count": 18,
   "metadata": {},
   "outputs": [
    {
     "data": {
      "text/plain": [
       "[<matplotlib.lines.Line2D at 0x7f03f2ef79b0>]"
      ]
     },
     "execution_count": 18,
     "metadata": {},
     "output_type": "execute_result"
    },
    {
     "data": {
      "image/png": "[encoded data removed]",
      "text/plain": [
       "<Figure size 432x288 with 1 Axes>"
      ]
     },
     "metadata": {
      "needs_background": "light"
     },
     "output_type": "display_data"
    }
   ],
   "source": [
    "import matplotlib.pyplot as plt\n",
    "%matplotlib inline\n",
    "plt.plot(all_losses)"
   ]
  },
  {
   "cell_type": "markdown",
   "metadata": {},
   "source": [
    "# Prediction"
   ]
  },
  {
   "cell_type": "code",
   "execution_count": 19,
   "metadata": {},
   "outputs": [],
   "source": [
    "def get_max_index(decoder_output):\n",
    "    #print('get_max_index: decoder_output.shape: ', decoder_output.shape)\n",
    "    #torch.Size([100, 13])\n",
    "    \n",
    "    results = []\n",
    "    for h in decoder_output:\n",
    "        #print(torch.argmax(h).shape)\n",
    "        #torch.Size([])\n",
    "        #print(torch.argmax(h))\n",
    "        #tensor(11, device='cuda:0')\n",
    "\n",
    "        results.append(torch.argmax(h))\n",
    "        \n",
    "    results = torch.tensor(results, device=device).view(BATCH_NUM, 1)\n",
    "    #print(results.shape)\n",
    "    #torch.Size([100, 1])\n",
    "    return results"
   ]
  },
  {
   "cell_type": "code",
   "execution_count": 20,
   "metadata": {},
   "outputs": [
    {
     "name": "stdout",
     "output_type": "stream",
     "text": [
      "150\n",
      "torch.Size([100, 5])\n"
     ]
    }
   ],
   "source": [
    "test_input_batch, test_output_batch = to_batch(test_x, test_y)\n",
    "input_tensor = torch.tensor(test_input_batch, device=device)\n",
    "\n",
    "predicts = []\n",
    "for i in range(len(test_input_batch)):\n",
    "    with torch.no_grad(): \n",
    "        hs, h = encoder(input_tensor[i])\n",
    "        hidden_state = h\n",
    "\n",
    "        # Add start symbol.\n",
    "        start_char_batch = [[to_ID()[\"_\"]] for _ in range(BATCH_NUM)]\n",
    "        decoder_input_tensor = torch.tensor(start_char_batch, device=device)\n",
    "\n",
    "        # store prediction.\n",
    "        batch_tmp = torch.zeros(100,1, dtype=torch.long, device=device)\n",
    "        # print(batch_tmp.size())\n",
    "        # (100,1)\n",
    "\n",
    "        for _ in range(5):\n",
    "            decoder_output, hidden_state, _ = decoder(decoder_input_tensor, hs, hidden_state)\n",
    "            #print('decoder_output.shape: ', decoder_output.shape)\n",
    "            #decoder_output.shape:  torch.Size([100, 1, 13])\n",
    "\n",
    "            # output(predicted character) will be next input.\n",
    "            decoder_input_tensor = get_max_index(decoder_output.squeeze())\n",
    "        \n",
    "            batch_tmp = torch.cat([batch_tmp, decoder_input_tensor], dim=1)\n",
    "\n",
    "            # remove head element.\n",
    "            #print('batch_tmp[:, 1:]: ', batch_tmp[:, 1:])\n",
    "            #batch_tmp[:, 1:]:  tensor([[11],\n",
    "        predicts.append(batch_tmp[:,1:])\n",
    "\n",
    "print(len(predicts))\n",
    "# 150\n",
    "print(predicts[0].size())\n",
    "# (100, 5)"
   ]
  },
  {
   "cell_type": "code",
   "execution_count": 21,
   "metadata": {},
   "outputs": [
    {
     "name": "stdout",
     "output_type": "stream",
     "text": [
      "0.8909333333333334\n",
      "       input answer predict judge\n",
      "30    64-774   -710    -700     X\n",
      "34    80-201   -121    -120     X\n",
      "46     99-52     47      57     X\n",
      "67    108-82     26      16     X\n",
      "73   796-152    644     674     X\n",
      "101  769-159    610     600     X\n",
      "102   762-63    699     799     X\n",
      "126  103-594   -491    -481     X\n",
      "135  982-657    325     315     X\n",
      "143  286-952   -666    -676     X\n"
     ]
    }
   ],
   "source": [
    "import pandas as pd\n",
    "id2char = {str(i) : str(i) for i in range(10)}\n",
    "id2char.update({\"10\":\"\", \"11\":\"-\", \"12\":\"\"})\n",
    "row = []\n",
    "for i in range(len(test_input_batch)):\n",
    "    batch_input = test_input_batch[i]\n",
    "    batch_output = test_output_batch[i]\n",
    "    batch_predict = predicts[i]\n",
    "    for inp, output, predict in zip(batch_input, batch_output, batch_predict):\n",
    "        x = [id2char[str(idx)] for idx in inp]\n",
    "        y = [id2char[str(idx)] for idx in output]\n",
    "        p = [id2char[str(idx.item())] for idx in predict]\n",
    "\n",
    "        x_str = \"\".join(x)\n",
    "        y_str = \"\".join(y)\n",
    "        p_str = \"\".join(p)\n",
    "\n",
    "        judge = \"O\" if y_str == p_str else \"X\"\n",
    "        row.append([x_str, y_str, p_str, judge])\n",
    "        \n",
    "predict_df = pd.DataFrame(row, columns=[\"input\", \"answer\", \"predict\", \"judge\"])\n",
    "\n",
    "# accuracy\n",
    "print(len(predict_df.query('judge == \"O\"')) / len(predict_df))\n",
    "# show wrong predictions.\n",
    "print(predict_df.query('judge == \"X\"').head(10))"
   ]
  }
 ],
 "metadata": {
  "kernelspec": {
   "display_name": "Python 3",
   "language": "python",
   "name": "python3"
  },
  "language_info": {
   "codemirror_mode": {
    "name": "ipython",
    "version": 3
   },
   "file_extension": ".py",
   "mimetype": "text/x-python",
   "name": "python",
   "nbconvert_exporter": "python",
   "pygments_lexer": "ipython3",
   "version": "3.6.9"
  }
 },
 "nbformat": 4,
 "nbformat_minor": 2
}
